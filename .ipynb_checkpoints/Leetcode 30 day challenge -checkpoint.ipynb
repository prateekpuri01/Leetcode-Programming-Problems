{
 "cells": [
  {
   "cell_type": "markdown",
   "metadata": {},
   "source": [
    " <font size=\"5\">**Leetcode Challenge Repository** </font>\n",
    " \n",
    "This notebook contains my Python solutions to the 30-Day challenge put on by Leetcode during April 2020. I created this notebook to help organize my own solutions and also share them with others!"
   ]
  },
  {
   "cell_type": "markdown",
   "metadata": {},
   "source": [
    "**Problem 1:** Given a non-empty array of integers, every element appears twice except for one. Find that single one.\n",
    "\n",
    "Note:\n",
    "\n",
    "Your algorithm should have a linear runtime complexity. Could you implement it without using extra memory?\n",
    "\n",
    "Example 1:\n",
    "\n",
    "Input: [2,2,1]\n",
    "Output: 1\n",
    "Example 2:\n",
    "\n",
    "Input: [4,1,2,1,2]\n",
    "Output: 4"
   ]
  },
  {
   "cell_type": "code",
   "execution_count": 3,
   "metadata": {},
   "outputs": [],
   "source": [
    "#solution to problem 1 \n",
    "\n",
    "def singleNumber(self, nums):\n",
    "    \"\"\"\n",
    "    :type nums: List[int]\n",
    "    :rtype: int\n",
    "    \"\"\"\n",
    "    return 2 * sum(set(nums)) - sum(nums)\n"
   ]
  },
  {
   "cell_type": "markdown",
   "metadata": {},
   "source": [
    "**Solution explanation:** We know every element appears *exactly twice* except for one. Consider an array \n",
    "\n",
    "nums = [a,b,a,b,c]\n",
    "\n",
    "Consider taking the total sum of unique elements (a+b+c) and mulitplying it by 2 to get:\n",
    "\n",
    "X1=2(a+b+c)\n",
    "\n",
    "Now consdier the sum of all array elements:\n",
    "\n",
    "X2=2a+2b+c\n",
    "\n",
    "If we subtract the two quantities, we can extract the non-unique value \n",
    "\n",
    "X1-X2=c"
   ]
  },
  {
   "cell_type": "code",
   "execution_count": null,
   "metadata": {},
   "outputs": [],
   "source": []
  }
 ],
 "metadata": {
  "kernelspec": {
   "display_name": "Python 3",
   "language": "python",
   "name": "python3"
  },
  "language_info": {
   "codemirror_mode": {
    "name": "ipython",
    "version": 3
   },
   "file_extension": ".py",
   "mimetype": "text/x-python",
   "name": "python",
   "nbconvert_exporter": "python",
   "pygments_lexer": "ipython3",
   "version": "3.7.4"
  }
 },
 "nbformat": 4,
 "nbformat_minor": 2
}
