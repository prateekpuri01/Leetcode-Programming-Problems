{
 "cells": [
  {
   "cell_type": "markdown",
   "metadata": {},
   "source": [
    " <font size=\"5\">**Programming problem repository** </font>\n",
    " \n",
    "This notebook contains my Python solutions to the 30-Day challenge put on by Leetcode during April 2020. I created this notebook to help organize my own solutions and also share them with others!"
   ]
  },
  {
   "cell_type": "markdown",
   "metadata": {},
   "source": [
    "**Problem 1:** Given a non-empty array of integers, every element appears twice except for one. Find that single one.\n",
    "\n",
    "Note:\n",
    "\n",
    "Your algorithm should have a linear runtime complexity. Could you implement it without using extra memory?\n",
    "\n",
    "Example 1:\n",
    "\n",
    "Input: [2,2,1]\n",
    "Output: 1\n",
    "Example 2:\n",
    "\n",
    "Input: [4,1,2,1,2]\n",
    "Output: 4"
   ]
  },
  {
   "cell_type": "code",
   "execution_count": 3,
   "metadata": {},
   "outputs": [],
   "source": [
    "#solution to problem 1 \n",
    "\n",
    "def singleNumber(nums):\n",
    "    \"\"\"\n",
    "    :type nums: List[int]\n",
    "    :rtype: int\n",
    "    \"\"\"\n",
    "    return 2 * sum(set(nums)) - sum(nums)\n"
   ]
  },
  {
   "cell_type": "markdown",
   "metadata": {},
   "source": [
    "**Solution explanation:** We know every element appears *exactly twice* except for one. Consider an array \n",
    "\n",
    "nums = [a,b,a,b,c]\n",
    "\n",
    "Consider taking the total sum of unique elements (a+b+c) and mulitplying it by 2 to get:\n",
    "\n",
    "X1=2(a+b+c)\n",
    "\n",
    "Now consdier the sum of all array elements:\n",
    "\n",
    "X2=2a+2b+c\n",
    "\n",
    "If we subtract the two quantities, we can extract the non-unique value \n",
    "\n",
    "X1-X2=c"
   ]
  },
  {
   "cell_type": "markdown",
   "metadata": {},
   "source": [
    "**Problem 2:** Given an array of numbers, return all duplicate values\n",
    "\n",
    "\n",
    "Example 1:\n",
    "\n",
    "Input: [2,2,1,1]\n",
    "Output: [2,1]\n",
    "    \n",
    "Example 2:\n",
    "\n",
    "Input: [4,1,2,1,2]\n",
    "Output: [1,2]"
   ]
  },
  {
   "cell_type": "code",
   "execution_count": 6,
   "metadata": {},
   "outputs": [],
   "source": [
    "#solution to problem 1 \n",
    "\n",
    "def get_duplicates(nums):\n",
    "    \"\"\"\n",
    "    :type nums: List[int]\n",
    "    :rtype: int\n",
    "    \"\"\"\n",
    "    \n",
    "    word_dict={}  #use hash table to store number counts\n",
    "    \n",
    "    for num in nums:\n",
    "        try:\n",
    "            word_dict[num]+=1 #increment count vals by one\n",
    "        except:\n",
    "            word_dict[num]=1\n",
    "    return [i[0] for i in word_dict.items() if i[1]>1] #convert hash table into list and return numbers that were counted more than once\n"
   ]
  },
  {
   "cell_type": "code",
   "execution_count": 7,
   "metadata": {},
   "outputs": [
    {
     "data": {
      "text/plain": [
       "[1, 4]"
      ]
     },
     "execution_count": 7,
     "metadata": {},
     "output_type": "execute_result"
    }
   ],
   "source": [
    "example_1=[1,1,4,5,6,7,3,4]\n",
    "get_duplicates(example_1)"
   ]
  },
  {
   "cell_type": "markdown",
   "metadata": {},
   "source": [
    "**Problem 3:** Given two sorted array of numbers, find the median of the merged array \n",
    "    \n",
    "Example 1:\n",
    "\n",
    "Inputs: [1,2,3,4], [5,6,7,8]\n",
    "Output: [4.5]\n"
   ]
  },
  {
   "cell_type": "code",
   "execution_count": 73,
   "metadata": {},
   "outputs": [],
   "source": [
    "def get_median(ar1,ar2):\n",
    "    \n",
    "    \n",
    "    \"\"\"\n",
    "    :type ar1: List[int]\n",
    "    :type ar2: List[int]\n",
    "    :rtype: float (median of merged list of ar1 and ar2)\n",
    "    \"\"\"\n",
    "    \n",
    "    \n",
    "    l1=len(ar1) #get list lengths\n",
    "    l2=len(ar2)\n",
    "\n",
    "    if (l1+l2)%2==0: #determine which merged list elements are needed for median\n",
    "        median_low=(l1+l2)/2-1  #if merged list has an even number of element, two distinct values will be needed\n",
    "        median_high=(l1+l2)/2-0 #median_low (high) is the first (second) index needed\n",
    "    else:\n",
    "        median_low=(l1+l2)//2 #if odd numbered array, you only need one value for median, so median_low=median_high\n",
    "        median_high=(l1+l2)//2\n",
    "        \n",
    "    left_index=0 #keep track of which index in each array is going to be added to merged list\n",
    "    right_index=0\n",
    "    \n",
    "    median=0 #medain_variable\n",
    "    \n",
    "    while (left_index+right_index) <= median_high: #loop through both lists, determining which element will be next \n",
    "                                                    #to be placed in merged list\n",
    "\n",
    "        \n",
    "        if left_index==l1: #if ar1 is maxed out, values from ar2 will be added to merged list\n",
    "            next_val=ar2[right_index]\n",
    "            right_index+=1  \n",
    "        \n",
    "        elif right_index==l2: #vice versa for ar2\n",
    "            next_val=ar1[left_index]\n",
    "            left_index+=1\n",
    "        \n",
    "        elif ar1[left_index]<ar2[right_index]: #if the current value of ar1 is lower, it will be added to merged lsit\n",
    "            next_val=ar1[left_index]\n",
    "            left_index+=1\n",
    "            \n",
    "        elif ar1[left_index]>=ar2[right_index]: #vice versa for ar2\n",
    "            next_val=ar2[right_index]\n",
    "            right_index+=1\n",
    "            \n",
    "        if (left_index+right_index-1)>=median_low: #we know what the next value added to the merged list is\n",
    "                                                    #if the merged list index is in the median range, add it to median_val\n",
    "            median+=next_val\n",
    "         \n",
    "    if (l1+l2)%2==0: #return median, if even length merged list, this is an average of two vals. If odd just a single val\n",
    "        return median/2\n",
    "    else:\n",
    "        return median\n",
    "             "
   ]
  },
  {
   "cell_type": "markdown",
   "metadata": {},
   "source": [
    "**Problem 4:** Find out which words in a list of words are anagram\n",
    "    \n",
    "Example 1:\n",
    "\n",
    "Inputs: ['ana','ball','level']\n",
    "Output: ['ana','level']\n"
   ]
  },
  {
   "cell_type": "code",
   "execution_count": 86,
   "metadata": {},
   "outputs": [],
   "source": [
    "def find_anagrams(words):\n",
    "    \n",
    "    \"\"\"\n",
    "    \n",
    "    input type\n",
    "    \n",
    "    word: List[strings]\n",
    "    return type: List[strings]\n",
    "    \n",
    "    \n",
    "    \"\"\"\n",
    "    \n",
    "    anagrams=[]\n",
    "    for word in words:\n",
    "        \n",
    "        left_index=0\n",
    "        right_index=len(word)-1\n",
    "        anagram_bool=1\n",
    "        \n",
    "        while left_index <=right_index:\n",
    "            if word[left_index]==word[right_index]:\n",
    "                pass\n",
    "            else:\n",
    "                anagram_bool=0\n",
    "                break\n",
    "                \n",
    "            left_index+=1\n",
    "            right_index+=-1\n",
    "        \n",
    "        if anagram_bool==1:\n",
    "            anagrams.append(word)\n",
    "        else:\n",
    "            continue\n",
    "            \n",
    "    return anagrams"
   ]
  },
  {
   "cell_type": "code",
   "execution_count": 90,
   "metadata": {},
   "outputs": [
    {
     "name": "stdout",
     "output_type": "stream",
     "text": [
      "function output: ['ana', 'level']\n",
      "expected output: ['ana', 'level']\n"
     ]
    }
   ],
   "source": [
    "output=find_anagrams(['ana','ball','level','levels'])\n",
    "print('function output: {}'.format(output))\n",
    "print('expected output: {}'.format(['ana','level']))"
   ]
  },
  {
   "cell_type": "markdown",
   "metadata": {},
   "source": [
    "**Solution explanation**\n",
    "\n",
    "For each word in my word list, I create two pointers to probe differnt characters in the word.\n",
    "The first point is initialized to the first character. The second pointer is initialized to the last character\n",
    "\n",
    "I check for equality of the characters associated with my left and right pointers. If they are equal, I increment my left pointer by one and then deincrement by right pointer by one. If the equality doesn't hold, I know the word is not an anagram and I exit the loop. I continue incrementing/deincrementing until \n",
    "\n",
    "1) my left poitner excepts my right pointer (word is an anagram in this chase) \\\n",
    "2) I encoutner an inequality between my right/left pointer (word is not an anagram in this case)\n",
    "\n",
    "Each time I identify an anagram (tracked through an anagram_bool variable), I add it to my output array.\n",
    "After looping through all the words, I reutrn this array"
   ]
  },
  {
   "cell_type": "markdown",
   "metadata": {},
   "source": [
    "**Problem 5:** Find out if a number is a pallidrome without converting it to a str\n",
    "    \n",
    "Example 1:\n",
    "\n",
    "Inputs: 111223\n",
    "Output: False\n",
    "\n",
    "\n",
    "Example 2:\n",
    "\n",
    "Inputs: 101\n",
    "Output: True\n"
   ]
  },
  {
   "cell_type": "code",
   "execution_count": 170,
   "metadata": {},
   "outputs": [],
   "source": [
    "def find_anagram(num):\n",
    "    \n",
    "    \"\"\"\n",
    "    input: int\n",
    "    return type: Bool\n",
    "    \"\"\"\n",
    "    num=abs(num)\n",
    "    \n",
    "    power=0\n",
    "    while num/10**power>1:\n",
    "        power+=1\n",
    "    power+=-1\n",
    "    running_total=0\n",
    "    num_list=[0]*(power+1)\n",
    "    \n",
    "    \n",
    "    for i in range(power+1):\n",
    "        temp_power=0\n",
    "        while num/(running_total+(temp_power+1)*10**(power-i))>=1:\n",
    "            temp_power+=1\n",
    "        running_total+=temp_power*10**(power-i)\n",
    "        num_list[i]=temp_power\n",
    "        \n",
    "    num_integers=len(num_list)\n",
    "    for i in range(num_integers//2):\n",
    "        \n",
    "        if num_list[i]==num_list[num_integers-i-1]:\n",
    "            continue\n",
    "        else:\n",
    "            return False\n",
    "        \n",
    "    return True"
   ]
  },
  {
   "cell_type": "markdown",
   "metadata": {},
   "source": [
    "**Problem 6**\n",
    "\n",
    "You have two sorted array of integers, write a program to find a number from each array such that the sum of the two numbers is closest to an integer i\n",
    "\n",
    "Example 1:\n",
    "\n",
    "Inputs: [1,2,3,6,7], [4,5,6,7], 8\n",
    "Output: [3,5] ([2,6],[1,7], [3,5] also acceptable)"
   ]
  },
  {
   "cell_type": "code",
   "execution_count": 252,
   "metadata": {},
   "outputs": [],
   "source": [
    "def find_closest_sum(ar1,ar2,num):\n",
    "    \n",
    "    \"\"\"\n",
    "    ar1: type List(ints)\n",
    "    ar2: type List(ints)\n",
    "    num: type int\n",
    "    \n",
    "    \"\"\"\n",
    "    right_index=len(ar2)-1\n",
    "    left_index=0\n",
    "    min_sum=float('inf')\n",
    "    \n",
    "    while left_index <=len(ar1)-1 and right_index>=0:\n",
    "        \n",
    "        current_sum=ar1[left_index]+ar2[right_index]\n",
    "        \n",
    "        if abs(current_sum-num) < min_sum:\n",
    "            min_sum=abs(current_sum-num)\n",
    "            return_val=[ar1[left_index],ar2[right_index]]\n",
    "            \n",
    "        if current_sum==num:\n",
    "            return [ar1[left_index],ar2[right_index]]\n",
    "            \n",
    "        elif current_sum>num:\n",
    "            right_index+=-1\n",
    "        else:\n",
    "            left_index+=1\n",
    "\n",
    "       \n",
    "    return return_val"
   ]
  },
  {
   "cell_type": "code",
   "execution_count": 253,
   "metadata": {},
   "outputs": [
    {
     "data": {
      "text/plain": [
       "[1, 12]"
      ]
     },
     "execution_count": 253,
     "metadata": {},
     "output_type": "execute_result"
    }
   ],
   "source": [
    "find_closest_sum([1,2,3,7],[12,14,19,22],9)"
   ]
  },
  {
   "cell_type": "markdown",
   "metadata": {},
   "source": [
    "**Problem 7**\n",
    "\n",
    "You have an array of parentheses. Determine whether every right parenthesis closes a parenthesis pair without interruption and if all parenthesis in the string are matched eventually\n",
    "\n",
    "Example 1:\n",
    "\n",
    "Inputs: '()'\n",
    "Output: True\n",
    "\n",
    "Inputs: '()()'\n",
    "Output: True\n",
    "\n",
    "Inputs: '((()'\n",
    "Output: True\n",
    "\n",
    "Inputs: '(()()))()'\n",
    "Output: False\n",
    "\n",
    "Inputs: '())()'\n",
    "Output: False"
   ]
  },
  {
   "cell_type": "code",
   "execution_count": 255,
   "metadata": {},
   "outputs": [],
   "source": [
    "def paren_check(paren_string):\n",
    "    paren_counter=0\n",
    "    \n",
    "    for char in paren_string:\n",
    "        if char=='(':\n",
    "            paren_counter+=1\n",
    "        elif char ==')':\n",
    "            paren_counter+=-1\n",
    "            \n",
    "        if paren_counter<0:\n",
    "            return False\n",
    "        \n",
    "    if paren_counter==0:\n",
    "        return True\n",
    "    else:\n",
    "        return False"
   ]
  },
  {
   "cell_type": "markdown",
   "metadata": {},
   "source": [
    "**Problem 8**\n",
    "\n",
    "Same as Problem 6 but we now have three types of braces [,{,( and each has to be closed before other right braces in order for the string to be valid\n",
    "\n",
    "Example 1:\n",
    "\n",
    "Inputs: '([])'\n",
    "Output: True\n",
    "\n",
    "Inputs: '([(])'\n",
    "Output: False\n",
    "\n",
    "Inputs: '(){}[]'\n",
    "Output: True\n"
   ]
  },
  {
   "cell_type": "code",
   "execution_count": 262,
   "metadata": {},
   "outputs": [],
   "source": [
    "def braces_check(input_s):\n",
    "    \n",
    "    string_stack=[]\n",
    "    left_strings=['(','{','[']\n",
    "    right_strings=[')','}',']']\n",
    "    pair_dict={')':'(','}':'{',']':'['}\n",
    "    \n",
    "    for char in input_s:\n",
    "        if char in left_strings:\n",
    "            string_stack.append(char)\n",
    "        elif char in right_strings:\n",
    "            if len(string_stack)==0:\n",
    "                return False\n",
    "            if string_stack[-1]==pair_dict[char]:\n",
    "                string_stack.pop()\n",
    "            else:\n",
    "                return False\n",
    "    if len(string_stack)==0:\n",
    "        return True\n",
    "    else:\n",
    "        return False"
   ]
  },
  {
   "cell_type": "markdown",
   "metadata": {},
   "source": [
    "**Problem 9**\n",
    "\n",
    "We are trying to plan a meeting between N people and are given their current meeting schedule for the day in the form of a list of array. Find the times where everyone is free for at least X hours. Assume possible meeting hours are 9 AM - 5 PM\n",
    "\n",
    "Example 1:\n",
    "\n",
    "Inputs: '([[[9,12],[14,16]],[[10,13],[16,17]],[[9,12]], 1)\n",
    "Output: [4,5]\n"
   ]
  },
  {
   "cell_type": "code",
   "execution_count": 284,
   "metadata": {},
   "outputs": [],
   "source": [
    "def find_meeting_time(schedules,meeting_time):\n",
    "    sorted_schedules=sorted(sum(schedules,[]),key=lambda x: x[0])\n",
    "    \n",
    "    mutual_hours=[]\n",
    "    \n",
    "    left_track=sorted_schedules[0][0]\n",
    "    right_track=sorted_schedules[0][1]\n",
    "    \n",
    "    for schedule in sorted_schedules[1:]:\n",
    "        if schedule[0]<right_track and schedule[1]>right_track:\n",
    "            right_track=schedule[1]\n",
    "            \n",
    "        elif schedule[0]>right_track and schedule[0]-right_track>=meeting_time:\n",
    "            mutual_hours.append([right_track,schedule[0]])\n",
    "            left_track=schedule[0]\n",
    "            right_track=schedule[1]\n",
    "        elif schedule[0]>right_track and schedule[0]-right_track<meeting_time:\n",
    "            left_track=schedule[0]\n",
    "            right_track=schedule[1]\n",
    "            \n",
    "    return mutual_hours\n",
    "              "
   ]
  },
  {
   "cell_type": "code",
   "execution_count": 289,
   "metadata": {},
   "outputs": [
    {
     "data": {
      "text/plain": [
       "[[13, 14]]"
      ]
     },
     "execution_count": 289,
     "metadata": {},
     "output_type": "execute_result"
    }
   ],
   "source": [
    "find_meeting_time([[[9,12],[14,16]],[[10,13],[16,17]],[[9,12]]], 1)"
   ]
  },
  {
   "cell_type": "markdown",
   "metadata": {},
   "source": [
    "**Problem 10**\n",
    "\n",
    "Given a binary tree, return the level order traversal of its nodes' values. (ie, from left to right, level by level).\n",
    "\n",
    "For example:\n",
    "Given binary tree [3,9,20,null,null,15,7],\n",
    "\n",
    "return [\n",
    "  [3],\n",
    "  [9,20],\n",
    "  [15,7]\n",
    "]"
   ]
  },
  {
   "cell_type": "code",
   "execution_count": 291,
   "metadata": {},
   "outputs": [],
   "source": [
    "class TreeNode(object):\n",
    " def __init__(self, val=0, left=None, right=None):\n",
    "     self.val = val\n",
    "     self.left = left\n",
    "     self.right = right\n",
    "        \n",
    "\n",
    "def levelOrder(self,root):\n",
    "\n",
    "    def helper(root,level_track=0,level_dict={}):\n",
    "        \"\"\"\n",
    "        :type root: TreeNode\n",
    "        :rtype: List[List[int]]\n",
    "        \"\"\"\n",
    "\n",
    "        if root==None:\n",
    "            return level_dict\n",
    "\n",
    "        if level_track in level_dict:\n",
    "            level_dict[level_track].append(root.val)\n",
    "        else:\n",
    "            level_dict[level_track]=[root.val]\n",
    "\n",
    "        level_dict=helper(root.left,level_track+1,level_dict)\n",
    "        level_dict=helper(root.right,level_track+1,level_dict)\n",
    "\n",
    "        return level_dict\n",
    "\n",
    "    return helper(root).values()\n"
   ]
  },
  {
   "cell_type": "markdown",
   "metadata": {},
   "source": [
    "**Problem 11**\n",
    "\n",
    "Given an array where elements are sorted in ascending order, convert it to a height balanced BST.\n",
    "\n",
    "For this problem, a height-balanced binary tree is defined as a binary tree in which the depth of the two subtrees of every node never differ by more than 1."
   ]
  },
  {
   "cell_type": "code",
   "execution_count": 292,
   "metadata": {},
   "outputs": [],
   "source": [
    "def sortedArrayToBST(self, nums):\n",
    "    \"\"\"\n",
    "    :type nums: List[int]\n",
    "    :rtype: TreeNode\n",
    "    \"\"\"\n",
    "    if nums==[]:\n",
    "        return None\n",
    "\n",
    "    median_index=len(nums)//2\n",
    "    median_val=nums[median_index]\n",
    "    left_vals=nums[:median_index]\n",
    "    right_vals=nums[median_index+1:]\n",
    "\n",
    "    root=TreeNode(median_val)\n",
    "    root.left=self.sortedArrayToBST(left_vals)\n",
    "    root.right=self.sortedArrayToBST(right_vals)\n",
    "\n",
    "    return root"
   ]
  },
  {
   "cell_type": "markdown",
   "metadata": {},
   "source": [
    "**Problem 12**\n",
    "\n",
    "Given a binary tree, find its maximum depth.\n",
    "\n",
    "The maximum depth is the number of nodes along the longest path from the root node down to the farthest leaf node."
   ]
  },
  {
   "cell_type": "code",
   "execution_count": 293,
   "metadata": {},
   "outputs": [],
   "source": [
    "def maxDepth(self, root):\n",
    "    \"\"\"\n",
    "    :type root: TreeNode\n",
    "    :rtype: int\n",
    "    \"\"\"\n",
    "\n",
    "    if root==None:\n",
    "        return 0 \n",
    "\n",
    "    maxValue=max(self.maxDepth(root.left)+1,1+self.maxDepth(root.right))\n",
    "\n",
    "    return maxValue\n",
    "\n"
   ]
  },
  {
   "cell_type": "markdown",
   "metadata": {},
   "source": [
    "**Problem 13**\n",
    "\n",
    "Given a binary tree, determine if it is a valid binary search tree (BST).\n",
    "\n",
    "Assume a BST is defined as follows:\n",
    "\n",
    "The left subtree of a node contains only nodes with keys less than the node's key.\n",
    "The right subtree of a node contains only nodes with keys greater than the node's key.\n",
    "Both the left and right subtrees must also be binary search trees."
   ]
  },
  {
   "cell_type": "code",
   "execution_count": 294,
   "metadata": {},
   "outputs": [],
   "source": [
    "def isValidBST(self, root,lower=float('-inf'),upper=float('inf')):\n",
    "    \"\"\"\n",
    "    :type root: TreeNode\n",
    "    :rtype: bool\n",
    "    \"\"\"\n",
    "\n",
    "    if root==None:\n",
    "        return True\n",
    "\n",
    "    current_val=root.val\n",
    "\n",
    "    if current_val<=lower or current_val>= upper:\n",
    "        return False\n",
    "\n",
    "    return self.isValidBST(root.left,lower,current_val) and self.isValidBST(root.right,current_val,upper)"
   ]
  },
  {
   "cell_type": "markdown",
   "metadata": {},
   "source": [
    "**Problem 14**\n",
    "\n",
    "Classic binary search algorithm question"
   ]
  },
  {
   "cell_type": "code",
   "execution_count": 299,
   "metadata": {},
   "outputs": [],
   "source": [
    "def binarySearch(arr, x):\n",
    "  \n",
    "    l=0\n",
    "    r=len(arr)-1\n",
    "    \n",
    "    while l <= r: \n",
    "  \n",
    "        mid = (l + r )// 2; \n",
    "          \n",
    "        # Check if x is present at mid \n",
    "        if arr[mid] == x: \n",
    "            return mid \n",
    "  \n",
    "        # If x is greater, ignore left half \n",
    "        elif arr[mid] < x: \n",
    "            l = mid + 1\n",
    "  \n",
    "        # If x is smaller, ignore right half \n",
    "        else: \n",
    "            r = mid - 1\n",
    "      \n",
    "    # If we reach here, then the element \n",
    "    # was not present \n",
    "    return -1"
   ]
  },
  {
   "cell_type": "markdown",
   "metadata": {},
   "source": [
    "**Problem 15**\n",
    "\n",
    "String shift! \n",
    "\n",
    "Given two strings A and B, return whether or not A can be shifted some number of times to get B.\n",
    "\n",
    "Example:\n",
    "\n",
    "A = 'abcde'\n",
    "B = 'cdeab'\n",
    "can_shift(A, B) == True\n",
    "\n",
    "A = 'abc'\n",
    "B = 'acb'\n",
    "can_shift(A, B) == False"
   ]
  },
  {
   "cell_type": "code",
   "execution_count": 22,
   "metadata": {},
   "outputs": [],
   "source": [
    "def stringShift(A,B):\n",
    "\n",
    "#shift first string by a value \n",
    "\n",
    "    for start_index in range(len(A)):\n",
    "\n",
    "        if A[start_index:]+A[:start_index]==B:\n",
    "            return True\n",
    "\n",
    "    return False"
   ]
  },
  {
   "cell_type": "code",
   "execution_count": null,
   "metadata": {},
   "outputs": [],
   "source": []
  }
 ],
 "metadata": {
  "kernelspec": {
   "display_name": "Python 3",
   "language": "python",
   "name": "python3"
  },
  "language_info": {
   "codemirror_mode": {
    "name": "ipython",
    "version": 3
   },
   "file_extension": ".py",
   "mimetype": "text/x-python",
   "name": "python",
   "nbconvert_exporter": "python",
   "pygments_lexer": "ipython3",
   "version": "3.7.4"
  }
 },
 "nbformat": 4,
 "nbformat_minor": 2
}
