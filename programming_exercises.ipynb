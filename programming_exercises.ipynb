{
 "cells": [
  {
   "cell_type": "markdown",
   "metadata": {},
   "source": [
    " <font size=\"5\">**Programming problem repository** </font>\n",
    " \n",
    "This notebook contains my Python solutions to the 30-Day challenge put on by Leetcode during April 2020. I created this notebook to help organize my own solutions and also share them with others!"
   ]
  },
  {
   "cell_type": "markdown",
   "metadata": {},
   "source": [
    "**Problem 1:** Given a non-empty array of integers, every element appears twice except for one. Find that single one.\n",
    "\n",
    "Note:\n",
    "\n",
    "Your algorithm should have a linear runtime complexity. Could you implement it without using extra memory?\n",
    "\n",
    "Example 1:\n",
    "\n",
    "Input: [2,2,1]\n",
    "Output: 1\n",
    "Example 2:\n",
    "\n",
    "Input: [4,1,2,1,2]\n",
    "Output: 4"
   ]
  },
  {
   "cell_type": "code",
   "execution_count": 3,
   "metadata": {},
   "outputs": [],
   "source": [
    "#solution to problem 1 \n",
    "\n",
    "def singleNumber(nums):\n",
    "    \"\"\"\n",
    "    :type nums: List[int]\n",
    "    :rtype: int\n",
    "    \"\"\"\n",
    "    return 2 * sum(set(nums)) - sum(nums)\n"
   ]
  },
  {
   "cell_type": "markdown",
   "metadata": {},
   "source": [
    "**Solution explanation:** We know every element appears *exactly twice* except for one. Consider an array \n",
    "\n",
    "nums = [a,b,a,b,c]\n",
    "\n",
    "Consider taking the total sum of unique elements (a+b+c) and mulitplying it by 2 to get:\n",
    "\n",
    "X1=2(a+b+c)\n",
    "\n",
    "Now consdier the sum of all array elements:\n",
    "\n",
    "X2=2a+2b+c\n",
    "\n",
    "If we subtract the two quantities, we can extract the non-unique value \n",
    "\n",
    "X1-X2=c"
   ]
  },
  {
   "cell_type": "markdown",
   "metadata": {},
   "source": [
    "**Problem 2:** Given an array of numbers, return all duplicate values\n",
    "\n",
    "\n",
    "Example 1:\n",
    "\n",
    "Input: [2,2,1,1]\n",
    "Output: [2,1]\n",
    "    \n",
    "Example 2:\n",
    "\n",
    "Input: [4,1,2,1,2]\n",
    "Output: [1,2]"
   ]
  },
  {
   "cell_type": "code",
   "execution_count": 6,
   "metadata": {},
   "outputs": [],
   "source": [
    "#solution to problem 1 \n",
    "\n",
    "def get_duplicates(nums):\n",
    "    \"\"\"\n",
    "    :type nums: List[int]\n",
    "    :rtype: int\n",
    "    \"\"\"\n",
    "    \n",
    "    word_dict={}  #use hash table to store number counts\n",
    "    \n",
    "    for num in nums:\n",
    "        try:\n",
    "            word_dict[num]+=1 #increment count vals by one\n",
    "        except:\n",
    "            word_dict[num]=1\n",
    "    return [i[0] for i in word_dict.items() if i[1]>1] #convert hash table into list and return numbers that were counted more than once\n"
   ]
  },
  {
   "cell_type": "code",
   "execution_count": 7,
   "metadata": {},
   "outputs": [
    {
     "data": {
      "text/plain": [
       "[1, 4]"
      ]
     },
     "execution_count": 7,
     "metadata": {},
     "output_type": "execute_result"
    }
   ],
   "source": [
    "example_1=[1,1,4,5,6,7,3,4]\n",
    "get_duplicates(example_1)"
   ]
  },
  {
   "cell_type": "markdown",
   "metadata": {},
   "source": [
    "**Problem 3:** Given two sorted array of numbers, find the median of the merged array \n",
    "    \n",
    "Example 1:\n",
    "\n",
    "Inputs: [1,2,3,4], [5,6,7,8]\n",
    "Output: [4.5]\n"
   ]
  },
  {
   "cell_type": "code",
   "execution_count": 73,
   "metadata": {},
   "outputs": [],
   "source": [
    "def get_median(ar1,ar2):\n",
    "    \n",
    "    \n",
    "    \"\"\"\n",
    "    :type ar1: List[int]\n",
    "    :type ar2: List[int]\n",
    "    :rtype: float (median of merged list of ar1 and ar2)\n",
    "    \"\"\"\n",
    "    \n",
    "    \n",
    "    l1=len(ar1) #get list lengths\n",
    "    l2=len(ar2)\n",
    "\n",
    "    if (l1+l2)%2==0: #determine which merged list elements are needed for median\n",
    "        median_low=(l1+l2)/2-1  #if merged list has an even number of element, two distinct values will be needed\n",
    "        median_high=(l1+l2)/2-0 #median_low (high) is the first (second) index needed\n",
    "    else:\n",
    "        median_low=(l1+l2)//2 #if odd numbered array, you only need one value for median, so median_low=median_high\n",
    "        median_high=(l1+l2)//2\n",
    "        \n",
    "    left_index=0 #keep track of which index in each array is going to be added to merged list\n",
    "    right_index=0\n",
    "    \n",
    "    median=0 #medain_variable\n",
    "    \n",
    "    while (left_index+right_index) <= median_high: #loop through both lists, determining which element will be next \n",
    "                                                    #to be placed in merged list\n",
    "\n",
    "        \n",
    "        if left_index==l1: #if ar1 is maxed out, values from ar2 will be added to merged list\n",
    "            next_val=ar2[right_index]\n",
    "            right_index+=1  \n",
    "        \n",
    "        elif right_index==l2: #vice versa for ar2\n",
    "            next_val=ar1[left_index]\n",
    "            left_index+=1\n",
    "        \n",
    "        elif ar1[left_index]<ar2[right_index]: #if the current value of ar1 is lower, it will be added to merged lsit\n",
    "            next_val=ar1[left_index]\n",
    "            left_index+=1\n",
    "            \n",
    "        elif ar1[left_index]>=ar2[right_index]: #vice versa for ar2\n",
    "            next_val=ar2[right_index]\n",
    "            right_index+=1\n",
    "            \n",
    "        if (left_index+right_index-1)>=median_low: #we know what the next value added to the merged list is\n",
    "                                                    #if the merged list index is in the median range, add it to median_val\n",
    "            median+=next_val\n",
    "         \n",
    "    if (l1+l2)%2==0: #return median, if even length merged list, this is an average of two vals. If odd just a single val\n",
    "        return median/2\n",
    "    else:\n",
    "        return median\n",
    "             "
   ]
  },
  {
   "cell_type": "markdown",
   "metadata": {},
   "source": [
    "**Problem 4:** Find out which words in a list of words are anagram\n",
    "    \n",
    "Example 1:\n",
    "\n",
    "Inputs: ['ana','ball','level']\n",
    "Output: ['ana','level']\n"
   ]
  },
  {
   "cell_type": "code",
   "execution_count": 86,
   "metadata": {},
   "outputs": [],
   "source": [
    "def find_anagrams(words):\n",
    "    \n",
    "    \"\"\"\n",
    "    \n",
    "    input type\n",
    "    \n",
    "    word: List[strings]\n",
    "    return type: List[strings]\n",
    "    \n",
    "    \n",
    "    \"\"\"\n",
    "    \n",
    "    anagrams=[]\n",
    "    for word in words:\n",
    "        \n",
    "        left_index=0\n",
    "        right_index=len(word)-1\n",
    "        anagram_bool=1\n",
    "        \n",
    "        while left_index <=right_index:\n",
    "            if word[left_index]==word[right_index]:\n",
    "                pass\n",
    "            else:\n",
    "                anagram_bool=0\n",
    "                break\n",
    "                \n",
    "            left_index+=1\n",
    "            right_index+=-1\n",
    "        \n",
    "        if anagram_bool==1:\n",
    "            anagrams.append(word)\n",
    "        else:\n",
    "            continue\n",
    "            \n",
    "    return anagrams"
   ]
  },
  {
   "cell_type": "code",
   "execution_count": 90,
   "metadata": {},
   "outputs": [
    {
     "name": "stdout",
     "output_type": "stream",
     "text": [
      "function output: ['ana', 'level']\n",
      "expected output: ['ana', 'level']\n"
     ]
    }
   ],
   "source": [
    "output=find_anagrams(['ana','ball','level','levels'])\n",
    "print('function output: {}'.format(output))\n",
    "print('expected output: {}'.format(['ana','level']))"
   ]
  },
  {
   "cell_type": "markdown",
   "metadata": {},
   "source": [
    "**Solution explanation**\n",
    "\n",
    "For each word in my word list, I create two pointers to probe differnt characters in the word.\n",
    "The first point is initialized to the first character. The second pointer is initialized to the last character\n",
    "\n",
    "I check for equality of the characters associated with my left and right pointers. If they are equal, I increment my left pointer by one and then deincrement by right pointer by one. If the equality doesn't hold, I know the word is not an anagram and I exit the loop. I continue incrementing/deincrementing until \n",
    "\n",
    "1) my left poitner excepts my right pointer (word is an anagram in this chase) \\\n",
    "2) I encoutner an inequality between my right/left pointer (word is not an anagram in this case)\n",
    "\n",
    "Each time I identify an anagram (tracked through an anagram_bool variable), I add it to my output array.\n",
    "After looping through all the words, I reutrn this array"
   ]
  },
  {
   "cell_type": "markdown",
   "metadata": {},
   "source": [
    "**Problem 4:** Find out if a number is a pallidrome without converting it to a str\n",
    "    \n",
    "Example 1:\n",
    "\n",
    "Inputs: 111223\n",
    "Output: False\n",
    "\n",
    "\n",
    "Example 2:\n",
    "\n",
    "Inputs: 101\n",
    "Output: True\n"
   ]
  },
  {
   "cell_type": "code",
   "execution_count": 170,
   "metadata": {},
   "outputs": [],
   "source": [
    "def find_anagram(num):\n",
    "    \n",
    "    \"\"\"\n",
    "    input: int\n",
    "    return type: Bool\n",
    "    \"\"\"\n",
    "    num=abs(num)\n",
    "    \n",
    "    power=0\n",
    "    while num/10**power>1:\n",
    "        power+=1\n",
    "    power+=-1\n",
    "    running_total=0\n",
    "    num_list=[0]*(power+1)\n",
    "    \n",
    "    \n",
    "    for i in range(power+1):\n",
    "        temp_power=0\n",
    "        while num/(running_total+(temp_power+1)*10**(power-i))>=1:\n",
    "            temp_power+=1\n",
    "        running_total+=temp_power*10**(power-i)\n",
    "        num_list[i]=temp_power\n",
    "        \n",
    "    num_integers=len(num_list)\n",
    "    for i in range(num_integers//2):\n",
    "        \n",
    "        if num_list[i]==num_list[num_integers-i-1]:\n",
    "            continue\n",
    "        else:\n",
    "            return False\n",
    "        \n",
    "    return True"
   ]
  }
 ],
 "metadata": {
  "kernelspec": {
   "display_name": "Python 3",
   "language": "python",
   "name": "python3"
  },
  "language_info": {
   "codemirror_mode": {
    "name": "ipython",
    "version": 3
   },
   "file_extension": ".py",
   "mimetype": "text/x-python",
   "name": "python",
   "nbconvert_exporter": "python",
   "pygments_lexer": "ipython3",
   "version": "3.7.4"
  }
 },
 "nbformat": 4,
 "nbformat_minor": 2
}
